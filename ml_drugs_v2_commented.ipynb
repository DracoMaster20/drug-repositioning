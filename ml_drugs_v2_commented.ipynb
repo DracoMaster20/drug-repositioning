{
  "cells": [
    {
      "cell_type": "markdown",
      "source": [
        "# **Drug Repositioning**"
      ],
      "metadata": {
        "id": "7mM4ErqM4koe"
      },
      "id": "7mM4ErqM4koe"
    },
    {
      "cell_type": "code",
      "execution_count": null,
      "id": "fwKQtp-KOkCN",
      "metadata": {
        "colab": {
          "base_uri": "https://localhost:8080/"
        },
        "id": "fwKQtp-KOkCN",
        "outputId": "b808029d-cc99-4ca9-c836-b47fb8018eff"
      },
      "outputs": [
        {
          "name": "stdout",
          "output_type": "stream",
          "text": [
            "Mounted at /content/drive\n"
          ]
        }
      ],
      "source": [
        "from google.colab import drive\n",
        "drive.mount('/content/drive')"
      ]
    },
    {
      "cell_type": "code",
      "execution_count": null,
      "id": "fda74b19-88db-482c-83d7-7566103015e8",
      "metadata": {
        "id": "fda74b19-88db-482c-83d7-7566103015e8"
      },
      "outputs": [],
      "source": [
        "!pip install networkx scikit-learn node2vec torch dgl pandas numpy\n"
      ]
    },
    {
      "cell_type": "code",
      "execution_count": null,
      "id": "e9lRL5uzPusb",
      "metadata": {
        "id": "e9lRL5uzPusb"
      },
      "outputs": [],
      "source": [
        "!pip install --upgrade *\n",
        "!pip install scipy\n",
        "!pip install scikit-learn\n"
      ]
    },
    {
      "cell_type": "markdown",
      "source": [
        "# Creating Graph (Data Preprocessing)"
      ],
      "metadata": {
        "id": "VvjKBr_044Vu"
      },
      "id": "VvjKBr_044Vu"
    },
    {
      "cell_type": "code",
      "execution_count": null,
      "id": "f1616d72-a966-4ead-a10e-0200abd327a7",
      "metadata": {
        "id": "f1616d72-a966-4ead-a10e-0200abd327a7"
      },
      "outputs": [],
      "source": [
        "#Importing the necessary libraries\n",
        "import pandas as pd\n",
        "import networkx as nx\n",
        "from node2vec import Node2Vec\n",
        "import numpy as np\n",
        "from sklearn.ensemble import RandomForestClassifier\n",
        "from sklearn.metrics import accuracy_score, roc_auc_score\n",
        "from sklearn.model_selection import train_test_split\n",
        "import random\n",
        "\n",
        "# Loading the datasets\n",
        "drugs_df = pd.read_csv(\"/content/drive/Shareddrives/Drug_repositioning/drugsInfo.csv\")\n",
        "disease_targets_df = pd.read_csv(\"/content/drive/Shareddrives/Drug_repositioning/Disease_with_DrugTarget.csv\")\n",
        "mapping_df = pd.read_csv(\"/content/drive/Shareddrives/Drug_repositioning/mapping.csv\")\n",
        "\n",
        "# Creating the graph instance\n",
        "G = nx.DiGraph()\n",
        "\n",
        "# Adding Drugs and Diseases as nodes\n",
        "G.add_nodes_from(drugs_df[\"DrugID\"], node_type=\"drug\")\n",
        "G.add_nodes_from(disease_targets_df[\"DiseaseID\"], node_type=\"disease\")\n",
        "\n",
        "# Adding Targets as nodes\n",
        "unique_targets = set(drugs_df[\"DrugTarget\"].dropna().unique())\n",
        "G.add_nodes_from(unique_targets, node_type=\"target\")\n",
        "\n",
        "# Adding Drug-Target edges\n",
        "drug_target_edges = list(zip(drugs_df[\"DrugID\"], drugs_df[\"DrugTarget\"]))\n",
        "G.add_edges_from(drug_target_edges, relation=\"interacts_with\")\n",
        "\n",
        "# Adding Target-Disease edges\n",
        "target_disease_edges = list(zip(disease_targets_df[\"DrugTargets\"], disease_targets_df[\"DiseaseID\"]))\n",
        "G.add_edges_from(target_disease_edges, relation=\"associated_with\")\n",
        "\n",
        "# Adding Drug-Disease known interactions\n",
        "drug_disease_edges = list(zip(mapping_df[\"DrugID\"], mapping_df[\"DiseaseID\"]))\n",
        "G.add_edges_from(drug_disease_edges, relation=\"treats\")\n",
        "\n",
        "print(f\"Graph has {G.number_of_nodes()} nodes and {G.number_of_edges()} edges.\")\n",
        "\n",
        "# Generating the Node Embeddings\n",
        "node2vec = Node2Vec(G, dimensions=64, walk_length=30, num_walks=200, workers=4)\n",
        "model = node2vec.fit(window=10, min_count=1, batch_words=4)\n",
        "node_embedding_dict = {str(node): model.wv[str(node)] for node in G.nodes()}\n",
        "\n",
        "# Creating positive and negative samples\n",
        "positive_edges = drug_disease_edges\n",
        "negative_edges = set()\n",
        "drug_nodes = list(drugs_df[\"DrugID\"].unique())\n",
        "disease_nodes = list(disease_targets_df[\"DiseaseID\"].unique())\n",
        "\n",
        "while len(negative_edges) < len(positive_edges):\n",
        "    d = random.choice(drug_nodes)\n",
        "    dis = random.choice(disease_nodes)\n",
        "    if (d, dis) not in G.edges():\n",
        "        negative_edges.add((d, dis))\n",
        "negative_edges = list(negative_edges)\n",
        "\n",
        "# Performing Train-Test Split for edges\n",
        "edges = positive_edges + negative_edges\n",
        "labels = [1] * len(positive_edges) + [0] * len(negative_edges)\n",
        "edges_train, edges_test, labels_train, labels_test = train_test_split(edges, labels, test_size=0.2, random_state=42)\n",
        "\n",
        "# Converting edges to feature vectors\n",
        "def edge_to_feature(edge_list, embedding_dict):\n",
        "    return [np.concatenate([embedding_dict.get(str(edge[0]), np.zeros(64)), embedding_dict.get(str(edge[1]), np.zeros(64))]) for edge in edge_list]\n",
        "\n",
        "#Creating train and test inputs\n",
        "X_train = edge_to_feature(edges_train, node_embedding_dict)\n",
        "X_test = edge_to_feature(edges_test, node_embedding_dict)\n"
      ]
    },
    {
      "cell_type": "markdown",
      "source": [
        "### **Graph Structure: Graph has 5559 nodes and 45183 edges.**"
      ],
      "metadata": {
        "id": "oc0cNddV6wMO"
      },
      "id": "oc0cNddV6wMO"
    },
    {
      "cell_type": "markdown",
      "source": [
        "# **Data Modelling and Testing (Without Hyperparameter Tuning)**"
      ],
      "metadata": {
        "id": "NTHUJSxa7_TV"
      },
      "id": "NTHUJSxa7_TV"
    },
    {
      "cell_type": "code",
      "execution_count": null,
      "id": "0dc605f9-e4fd-40d0-8213-ea9851745369",
      "metadata": {
        "colab": {
          "base_uri": "https://localhost:8080/",
          "height": 1000
        },
        "id": "0dc605f9-e4fd-40d0-8213-ea9851745369",
        "outputId": "e26191c7-20ca-460a-a745-52138cc93e70"
      },
      "outputs": [
        {
          "data": {
            "image/png": "[encoded data removed]",
            "text/plain": [
              "<Figure size 640x480 with 2 Axes>"
            ]
          },
          "metadata": {},
          "output_type": "display_data"
        },
        {
          "name": "stdout",
          "output_type": "stream",
          "text": [
            "Random Forest AUC-ROC: 0.8588, Accuracy: 0.8588\n"
          ]
        },
        {
          "data": {
            "image/png": "[encoded data removed]",
            "text/plain": [
              "<Figure size 640x480 with 1 Axes>"
            ]
          },
          "metadata": {},
          "output_type": "display_data"
        },
        {
          "data": {
            "image/png": "[encoded data removed]",
            "text/plain": [
              "<Figure size 640x480 with 2 Axes>"
            ]
          },
          "metadata": {},
          "output_type": "display_data"
        },
        {
          "name": "stdout",
          "output_type": "stream",
          "text": [
            "Logistic Regression AUC-ROC: 0.8398, Accuracy: 0.8398\n"
          ]
        },
        {
          "data": {
            "image/png": "[encoded data removed]",
            "text/plain": [
              "<Figure size 640x480 with 1 Axes>"
            ]
          },
          "metadata": {},
          "output_type": "display_data"
        }
      ],
      "source": [
        "from sklearn.svm import SVC\n",
        "from sklearn.linear_model import LogisticRegression\n",
        "from sklearn.ensemble import RandomForestClassifier\n",
        "from sklearn import metrics\n",
        "import matplotlib.pyplot as plt\n",
        "import joblib\n",
        "# Creating model instances\n",
        "models = {\n",
        "    \"Random Forest\": RandomForestClassifier(n_estimators=100, random_state=42),\n",
        "    \"Logistic Regression\": LogisticRegression(max_iter=1000, random_state=42)\n",
        "}\n",
        "\n",
        "model_instance=[]\n",
        "#Fitting various models to the data and calculating accuracy and auc-roc\n",
        "for name, model in models.items():\n",
        "    model.fit(X_train, labels_train)\n",
        "    predictions = model.predict(X_test)\n",
        "    model_instance.append(model)\n",
        "    confusion_matrix = metrics.confusion_matrix(labels_test, predictions)\n",
        "    cm_display = metrics.ConfusionMatrixDisplay(confusion_matrix = confusion_matrix, display_labels = [0, 1])\n",
        "    cm_display.plot()\n",
        "    plt.show()\n",
        "    roc_auc = roc_auc_score(labels_test, predictions)\n",
        "    accuracy = accuracy_score(labels_test, predictions)\n",
        "    print(f\"{name} AUC-ROC: {roc_auc:.4f}, Accuracy: {accuracy:.4f}\")\n",
        "    fpr, tpr, thresholds = metrics.roc_curve(labels_test, predictions)\n",
        "    plt.plot([0, 1], [0, 1], 'k--')\n",
        "    plt.plot(fpr, tpr, label=name+\"(AUC = %0.2f)\" % roc_auc)\n",
        "    plt.legend()\n",
        "    plt.xlabel(\"FPR\")\n",
        "    plt.ylabel(\"TPR\")\n",
        "    plt.title('Receiver Operating Characteristic')\n",
        "    plt.show()\n",
        "    joblib.dump(model, f\"{name.replace(' ', '_')}_model.pkl\")"
      ]
    },
    {
      "cell_type": "markdown",
      "source": [
        "# **Assignment 2**"
      ],
      "metadata": {
        "id": "eqrkqM1K5CQt"
      },
      "id": "eqrkqM1K5CQt"
    },
    {
      "cell_type": "markdown",
      "id": "oVXijPUtbO6b",
      "metadata": {
        "id": "oVXijPUtbO6b"
      },
      "source": [
        "# **Dimensionality Reduction**"
      ]
    },
    {
      "cell_type": "markdown",
      "id": "sJG5fA5CbVM7",
      "metadata": {
        "id": "sJG5fA5CbVM7"
      },
      "source": [
        "## Principle Component Analysis (PCA)"
      ]
    },
    {
      "cell_type": "code",
      "execution_count": null,
      "id": "vfzRfBr-X7pd",
      "metadata": {
        "id": "vfzRfBr-X7pd"
      },
      "outputs": [],
      "source": [
        "\n",
        "from sklearn.decomposition import PCA\n",
        "\n",
        "# Apply PCA to reduce the dimensionality of the node embeddings\n",
        "pca = PCA(n_components=5)\n",
        "X_train_pca = pca.fit_transform(X_train)\n",
        "X_test_pca = pca.transform(X_test)\n"
      ]
    },
    {
      "cell_type": "code",
      "execution_count": null,
      "id": "q5KSBSLhY0u8",
      "metadata": {
        "colab": {
          "base_uri": "https://localhost:8080/"
        },
        "id": "q5KSBSLhY0u8",
        "outputId": "5f316400-3e21-480c-ff54-7cf3d09b1ab3"
      },
      "outputs": [
        {
          "name": "stdout",
          "output_type": "stream",
          "text": [
            "Random Forest AUC-ROC: 0.8219, Accuracy: 0.8219\n",
            "Logistic Regression AUC-ROC: 0.7712, Accuracy: 0.7712\n"
          ]
        }
      ],
      "source": [
        "\n",
        "models = {\n",
        "    \"Random Forest\": RandomForestClassifier(n_estimators=100, random_state=42),\n",
        "    \"Logistic Regression\": LogisticRegression(max_iter=1000, random_state=42)\n",
        "}\n",
        "\n",
        "for name, model in models.items():\n",
        "    model.fit(X_train_pca, labels_train)  # Using the PCA-transformed data\n",
        "    predictions = model.predict(X_test_pca)\n",
        "    roc_auc = roc_auc_score(labels_test, predictions)\n",
        "    accuracy = accuracy_score(labels_test, predictions)\n",
        "    print(f\"{name} AUC-ROC: {roc_auc:.4f}, Accuracy: {accuracy:.4f}\")"
      ]
    },
    {
      "cell_type": "markdown",
      "source": [
        "**Inference: In PCA, Random Forest shows better results**"
      ],
      "metadata": {
        "id": "2luLks7u5Vpe"
      },
      "id": "2luLks7u5Vpe"
    },
    {
      "cell_type": "markdown",
      "source": [
        "Now, changing the number of components to find the best result"
      ],
      "metadata": {
        "id": "WXEYLtq15cCu"
      },
      "id": "WXEYLtq15cCu"
    },
    {
      "cell_type": "code",
      "execution_count": null,
      "id": "vbBE4AVZcdz0",
      "metadata": {
        "colab": {
          "base_uri": "https://localhost:8080/"
        },
        "id": "vbBE4AVZcdz0",
        "outputId": "52b8f7aa-043c-4ee0-cdf4-934aeefb2589"
      },
      "outputs": [
        {
          "name": "stdout",
          "output_type": "stream",
          "text": [
            "Best Accuracies:\n",
            "Random Forest: Accuracy = 0.8416, n_components = 16\n",
            "Logistic Regression: Accuracy = 0.7992, n_components = 17\n",
            "\n",
            "Best ROC-AUCs:\n",
            "Random Forest: ROC-AUC = 0.8416, n_components = 16\n",
            "Logistic Regression: ROC-AUC = 0.7992, n_components = 17\n"
          ]
        }
      ],
      "source": [
        "\n",
        "best_accuracies = {}\n",
        "best_roc_aucs = {}\n",
        "\n",
        "for n_components in range(1, 18):\n",
        "    pca = PCA(n_components=n_components)\n",
        "    X_train_pca = pca.fit_transform(X_train)\n",
        "    X_test_pca = pca.transform(X_test)\n",
        "\n",
        "    for name, model in models.items():\n",
        "        model.fit(X_train_pca, labels_train)\n",
        "        predictions = model.predict(X_test_pca)\n",
        "        roc_auc = roc_auc_score(labels_test, predictions)\n",
        "        accuracy = accuracy_score(labels_test, predictions)\n",
        "\n",
        "        if name not in best_accuracies or accuracy > best_accuracies[name][0]:\n",
        "            best_accuracies[name] = (accuracy, n_components)\n",
        "\n",
        "        if name not in best_roc_aucs or roc_auc > best_roc_aucs[name][0]:\n",
        "            best_roc_aucs[name] = (roc_auc, n_components)\n",
        "\n",
        "print(\"Best Accuracies:\")\n",
        "for name, (accuracy, n_components) in best_accuracies.items():\n",
        "    print(f\"{name}: Accuracy = {accuracy:.4f}, n_components = {n_components}\")\n",
        "\n",
        "print(\"\\nBest ROC-AUCs:\")\n",
        "for name, (roc_auc, n_components) in best_roc_aucs.items():\n",
        "    print(f\"{name}: ROC-AUC = {roc_auc:.4f}, n_components = {n_components}\")\n"
      ]
    },
    {
      "cell_type": "markdown",
      "id": "o7v2WTkkbZUz",
      "metadata": {
        "id": "o7v2WTkkbZUz"
      },
      "source": [
        "## Linear Discriminant Analysis (LDA)"
      ]
    },
    {
      "cell_type": "code",
      "execution_count": null,
      "id": "J7mmNpdKZgId",
      "metadata": {
        "colab": {
          "base_uri": "https://localhost:8080/"
        },
        "id": "J7mmNpdKZgId",
        "outputId": "3c7801ea-02b7-42e5-f19c-5878138552f2"
      },
      "outputs": [
        {
          "name": "stdout",
          "output_type": "stream",
          "text": [
            "Random Forest AUC-ROC: 0.7676, Accuracy: 0.7676\n",
            "Logistic Regression AUC-ROC: 0.8393, Accuracy: 0.8393\n"
          ]
        }
      ],
      "source": [
        "\n",
        "\n",
        "from sklearn.discriminant_analysis import LinearDiscriminantAnalysis as LDA\n",
        "\n",
        "# Apply LDA to reduce the dimensionality of the node embeddings\n",
        "lda = LDA(n_components=1)  # You can adjust the number of components\n",
        "X_train_lda = lda.fit_transform(X_train, labels_train)\n",
        "X_test_lda = lda.transform(X_test)\n",
        "\n",
        "# Now you can use X_train_lda and X_test_lda for training and testing your models.\n",
        "\n",
        "# Example:\n",
        "models = {\n",
        "    \"Random Forest\": RandomForestClassifier(n_estimators=100, random_state=42),\n",
        "    \"Logistic Regression\": LogisticRegression(max_iter=1000, random_state=42)\n",
        "}\n",
        "\n",
        "for name, model in models.items():\n",
        "    model.fit(X_train_lda, labels_train)  # Using the LDA-transformed data\n",
        "    predictions = model.predict(X_test_lda)\n",
        "    roc_auc = roc_auc_score(labels_test, predictions)\n",
        "    accuracy = accuracy_score(labels_test, predictions)\n",
        "    print(f\"{name} AUC-ROC: {roc_auc:.4f}, Accuracy: {accuracy:.4f}\")\n"
      ]
    },
    {
      "cell_type": "markdown",
      "source": [
        "**Inference: In LDA, Logistic Regression shows better results**"
      ],
      "metadata": {
        "id": "CmNihtuD5sk9"
      },
      "id": "CmNihtuD5sk9"
    },
    {
      "cell_type": "code",
      "execution_count": null,
      "id": "Yo1LJiK1fZAO",
      "metadata": {
        "colab": {
          "base_uri": "https://localhost:8080/"
        },
        "id": "Yo1LJiK1fZAO",
        "outputId": "a3dad4fd-498c-43aa-e3bb-7a89ce8309a1"
      },
      "outputs": [
        {
          "name": "stdout",
          "output_type": "stream",
          "text": [
            "Best Accuracies (LDA):\n",
            "Random Forest: Accuracy = 0.7676, n_components = 1\n",
            "Logistic Regression: Accuracy = 0.8393, n_components = 1\n",
            "\n",
            "Best ROC-AUCs (LDA):\n",
            "Random Forest: ROC-AUC = 0.7676, n_components = 1\n",
            "Logistic Regression: ROC-AUC = 0.8393, n_components = 1\n"
          ]
        }
      ],
      "source": [
        "\n",
        "import numpy as np\n",
        "best_accuracies = {}\n",
        "best_roc_aucs = {}\n",
        "\n",
        "for n_components in range(1, min(len(np.unique(labels_train)), 18)):  # Use min to avoid errors if n_components > unique labels\n",
        "    lda = LDA(n_components=n_components)\n",
        "    try:\n",
        "        X_train_lda = lda.fit_transform(X_train, labels_train)\n",
        "        X_test_lda = lda.transform(X_test)\n",
        "\n",
        "        for name, model in models.items():\n",
        "            model.fit(X_train_lda, labels_train)\n",
        "            predictions = model.predict(X_test_lda)\n",
        "            roc_auc = roc_auc_score(labels_test, predictions)\n",
        "            accuracy = accuracy_score(labels_test, predictions)\n",
        "\n",
        "            if name not in best_accuracies or accuracy > best_accuracies[name][0]:\n",
        "                best_accuracies[name] = (accuracy, n_components)\n",
        "\n",
        "            if name not in best_roc_aucs or roc_auc > best_roc_aucs[name][0]:\n",
        "                best_roc_aucs[name] = (roc_auc, n_components)\n",
        "    except ValueError:\n",
        "        print(f\"LDA failed for n_components={n_components}, likely due to insufficient unique labels.\")\n",
        "\n",
        "print(\"Best Accuracies (LDA):\")\n",
        "for name, (accuracy, n_components) in best_accuracies.items():\n",
        "    print(f\"{name}: Accuracy = {accuracy:.4f}, n_components = {n_components}\")\n",
        "\n",
        "print(\"\\nBest ROC-AUCs (LDA):\")\n",
        "for name, (roc_auc, n_components) in best_roc_aucs.items():\n",
        "    print(f\"{name}: ROC-AUC = {roc_auc:.4f}, n_components = {n_components}\")\n"
      ]
    },
    {
      "cell_type": "markdown",
      "source": [
        "**Inference:** While both PCA and LDA results in lower accuracies over model without dimensionality reduction, <br>\n",
        "PCA shows better results with Random Forest while LDA shows better results with Logistic Regression"
      ],
      "metadata": {
        "id": "w4yjeJE_6ipN"
      },
      "id": "w4yjeJE_6ipN"
    },
    {
      "cell_type": "markdown",
      "id": "-0XgG8_nZWvR",
      "metadata": {
        "id": "-0XgG8_nZWvR"
      },
      "source": [
        "## **Grid Search and Hyperparameter Tuning**"
      ]
    },
    {
      "cell_type": "code",
      "execution_count": null,
      "id": "XItMp5QcgcYs",
      "metadata": {
        "colab": {
          "base_uri": "https://localhost:8080/"
        },
        "id": "XItMp5QcgcYs",
        "outputId": "af4eb357-36eb-427b-f076-f3a747d734c5"
      },
      "outputs": [
        {
          "name": "stdout",
          "output_type": "stream",
          "text": [
            "Best parameters for Random Forest: {'max_depth': None, 'min_samples_leaf': 1, 'min_samples_split': 2, 'n_estimators': 200}\n",
            "Best parameters for Logistic Regression: {'C': 1, 'penalty': 'l1', 'solver': 'liblinear'}\n",
            "Random Forest (Optimized) AUC-ROC: 0.8600, Accuracy: 0.8600\n",
            "Logistic Regression (Optimized) AUC-ROC: 0.8401, Accuracy: 0.8401\n"
          ]
        }
      ],
      "source": [
        "\n",
        "from sklearn.model_selection import GridSearchCV\n",
        "\n",
        "# Define the parameter grid for hyperparameter tuning\n",
        "param_grid = {\n",
        "    'Random Forest': {\n",
        "        'n_estimators': [50, 100, 200],\n",
        "        'max_depth': [None, 10, 20],\n",
        "        'min_samples_split': [2, 5, 10],\n",
        "        'min_samples_leaf': [1, 2, 4]\n",
        "    },\n",
        "    'Logistic Regression': {\n",
        "        'C': [0.001, 0.01, 0.1, 1, 10, 100],\n",
        "        'penalty': ['l1', 'l2'],\n",
        "        'solver': ['liblinear']  # Add 'saga' if you have a newer sklearn version and want to use L1 with multiclass\n",
        "    }\n",
        "}\n",
        "\n",
        "best_models = {}\n",
        "\n",
        "for name, model in models.items():\n",
        "    grid_search = GridSearchCV(estimator=model, param_grid=param_grid[name], cv=5, scoring='accuracy', n_jobs=-1)\n",
        "    grid_search.fit(X_train, labels_train)\n",
        "    best_models[name] = grid_search.best_estimator_\n",
        "    print(f\"Best parameters for {name}: {grid_search.best_params_}\")\n",
        "\n",
        "# Now use the best_models dictionary to evaluate the models with optimized parameters\n",
        "\n",
        "for name, model in best_models.items():\n",
        "    predictions = model.predict(X_test)\n",
        "    roc_auc = roc_auc_score(labels_test, predictions)\n",
        "    accuracy = accuracy_score(labels_test, predictions)\n",
        "    print(f\"{name} (Optimized) AUC-ROC: {roc_auc:.4f}, Accuracy: {accuracy:.4f}\")\n",
        "\n",
        "    # You can also generate confusion matrix and ROC curve plots here if needed\n"
      ]
    },
    {
      "cell_type": "markdown",
      "id": "SlLZdu4HZZ7b",
      "metadata": {
        "id": "SlLZdu4HZZ7b"
      },
      "source": [
        "## **Random Search and Hyperparameter Tuning**"
      ]
    },
    {
      "cell_type": "code",
      "execution_count": null,
      "id": "3AKOcefhZUcM",
      "metadata": {
        "colab": {
          "background_save": true,
          "base_uri": "https://localhost:8080/"
        },
        "id": "3AKOcefhZUcM",
        "outputId": "ee04042a-5038-4e0c-dfd0-28009c47c0fb"
      },
      "outputs": [
        {
          "name": "stdout",
          "output_type": "stream",
          "text": [
            "Best parameters for Random Forest: {'max_depth': None, 'min_samples_leaf': 3, 'min_samples_split': 3, 'n_estimators': 181}\n"
          ]
        },
        {
          "name": "stderr",
          "output_type": "stream",
          "text": [
            "/usr/local/lib/python3.11/dist-packages/sklearn/model_selection/_search.py:317: UserWarning: The total space of parameters 12 is smaller than n_iter=20. Running 12 iterations. For exhaustive searches, use GridSearchCV.\n",
            "  warnings.warn(\n"
          ]
        },
        {
          "name": "stdout",
          "output_type": "stream",
          "text": [
            "Best parameters for Logistic Regression: {'solver': 'liblinear', 'penalty': 'l1', 'C': 10}\n",
            "Random Forest (Optimized) AUC-ROC: 0.8627, Accuracy: 0.8627\n",
            "Logistic Regression (Optimized) AUC-ROC: 0.8446, Accuracy: 0.8445\n"
          ]
        }
      ],
      "source": [
        "\n",
        "from sklearn.model_selection import RandomizedSearchCV\n",
        "from scipy.stats import randint as sp_randint\n",
        "\n",
        "from sklearn.svm import SVC\n",
        "from sklearn.linear_model import LogisticRegression\n",
        "from sklearn.ensemble import RandomForestClassifier\n",
        "from sklearn import metrics\n",
        "import matplotlib.pyplot as plt\n",
        "import joblib\n",
        "# Creating model instances\n",
        "models = {\n",
        "    \"Random Forest\": RandomForestClassifier(n_estimators=100, random_state=42),\n",
        "    \"Logistic Regression\": LogisticRegression(max_iter=1000, random_state=42)\n",
        "}\n",
        "\n",
        "\n",
        "# Define the parameter distributions for random search\n",
        "param_dist = {\n",
        "    'Random Forest': {\n",
        "        'n_estimators': sp_randint(50, 201),\n",
        "        'max_depth': [None, 10, 20, 30],\n",
        "        'min_samples_split': sp_randint(2, 11),\n",
        "        'min_samples_leaf': sp_randint(1, 5)\n",
        "    },\n",
        "    'Logistic Regression': {\n",
        "        'C': [0.001, 0.01, 0.1, 1, 10, 100],\n",
        "        'penalty': ['l1', 'l2'],\n",
        "        'solver': ['liblinear']  # Add 'saga' if you have a newer sklearn version and want to use L1 with multiclass\n",
        "    }\n",
        "}\n",
        "\n",
        "best_models = {}\n",
        "for name, model in models.items():\n",
        "    random_search = RandomizedSearchCV(estimator=model, param_distributions=param_dist[name], n_iter=20, cv=5, scoring='accuracy', n_jobs=-1, random_state=42)\n",
        "    random_search.fit(X_train, labels_train)\n",
        "    best_models[name] = random_search.best_estimator_\n",
        "    print(f\"Best parameters for {name}: {random_search.best_params_}\")\n",
        "\n",
        "# Now use the best_models dictionary to evaluate the models with optimized parameters\n",
        "for name, model in best_models.items():\n",
        "    predictions = model.predict(X_test)\n",
        "    roc_auc = roc_auc_score(labels_test, predictions)\n",
        "    accuracy = accuracy_score(labels_test, predictions)\n",
        "    print(f\"{name} (Optimized) AUC-ROC: {roc_auc:.4f}, Accuracy: {accuracy:.4f}\")\n",
        "    # You can also generate confusion matrix and ROC curve plots here if needed"
      ]
    },
    {
      "cell_type": "markdown",
      "id": "m_ynqlPQb0vl",
      "metadata": {
        "id": "m_ynqlPQb0vl"
      },
      "source": [
        "# **Testing with real-life disease and drug**"
      ]
    },
    {
      "cell_type": "code",
      "execution_count": null,
      "id": "ef6b2844-e1ab-4cab-b20d-03a067863d94",
      "metadata": {
        "id": "ef6b2844-e1ab-4cab-b20d-03a067863d94",
        "outputId": "520bfe85-93b7-472c-ccbb-9f436064edfa"
      },
      "outputs": [
        {
          "name": "stdout",
          "output_type": "stream",
          "text": [
            "Corona Virus\n",
            "Predicted drugs and associated proteins for Corona Virus: [('DB04574', [\"['P03372', 'Q92731']\"]), ('DB04570', [\"['P42971', 'P02918', 'P02919', 'P24228']\"]), ('DB11431', [\"['Q25634']\"]), ('DB01055', [\"['P34896', 'P13500', 'P14679']\"]), ('DB01582', [\"['P0AC13']\"]), ('DB00957', [\"['P06401', 'P03372', 'P10275']\"]), ('DB09074', [\"['P09874', 'Q9UGN5', 'Q9Y6F1', 'P42330']\"]), ('DB04862', [\"['P0C0H6']\"]), ('DB06782', [\"['P05067']\"]), ('DB05088', [\"['P05067']\"])]\n",
            "Alopecia Areata\n",
            "Predicted drugs and associated proteins for Alopecia Areata: [('DB00509', [\"['P10827', 'P10828', 'P07202']\"]), ('DB01217', [\"['P11511']\"]), ('DB01411', [\"['Q9Y271', 'P01375', 'P05113', 'P12724', 'P19838', 'Q02817', 'Q00653', 'P19838']\"]), ('DB12442', [\"['P07900']\"]), ('DB14487', [\"['P46663', 'P16455', 'P04075', 'P68104', 'P06733', 'O14556', 'P15531', 'P07237', 'P30101', 'Q06830', 'P78330', 'P60174', 'P49411', 'P03372', 'P08700', 'P02795', 'O14618', 'Q13547', 'P56524', 'P29372', 'P04279', 'P00441', 'Q9BY41', 'O15304', 'P23415', 'Q00987', 'P01308', 'P46939', 'P45381', 'P05109', 'P06702', 'P14780', 'O15350', 'P29034', 'P04637', 'P25713', 'O75340', 'Q8N907', 'P04731', 'P04217', 'P01023', 'P01019', 'P02765', 'P02743', 'P02647', 'P02652', 'P06727', 'Q0VD83', 'P02649', 'O14791', 'P02746', 'P02747', 'P00736', 'P09871', 'P01024', 'P0C0L5', 'P04003', 'P20851', 'P01031', 'P46736', 'P07357', 'P07358', 'P07360', 'P00751', 'P08603', 'P05156', 'P10909', 'P00450', 'P15169', 'P22792', 'P81605', 'P15924', 'P00748', 'P05160', 'P00734', 'O75636', 'P02671', 'P02751', 'P06396', 'P69905', 'P68871', 'P00739', 'Q86YZ3', 'P35858', 'P01876', 'P01871', 'P01599', 'P01619', 'P80748', 'P19827', 'P19823', 'Q06033', 'Q14624', 'P01591', 'P14923', 'P03952', 'P01042', 'P04264', 'P13645', 'P02533', 'P08779', 'P35908', 'P13647', 'P02538', 'P35527', 'P19652', 'Q96PD5', 'P27169', 'P20742', 'P31151', 'P49908', 'P01009', 'P01011', 'P29622', 'P08185', 'P05546', 'P04278', 'P02787', 'P02766', 'P04004', 'P51693', 'Q06481', 'P05067', 'P09874']\"]), ('DB00151', [\"['P48507', 'P48506', 'P17174', 'P00505', 'P32929', 'P35520', 'P49589', 'P16455', 'P48637', 'Q9HA77', 'Q9Y600', 'Q9Y697', 'Q16878']\"]), ('DB00467', [\"['P43700', 'P43702', 'P11388']\"]), ('DB01582', [\"['P0AC13']\"]), ('DB04570', [\"['P42971', 'P02918', 'P02919', 'P24228']\"]), ('DB00565', [\"['Q9GZZ6', 'Q15822', 'P32297', 'P43681', 'P30532', 'Q15825', 'P36544', 'Q9UGM1', 'P17787', 'Q05901', 'P30926', 'P02708', 'P08172']\"])]\n"
          ]
        }
      ],
      "source": [
        "def predict_drugs_and_proteins_for_disease(disease_name):\n",
        "    if disease_name not in node_embedding_dict:\n",
        "        print(\"Disease not found in the graph.\")\n",
        "        return []\n",
        "\n",
        "    disease_embedding = node_embedding_dict[disease_name]\n",
        "    drug_scores = {}\n",
        "    drug_protein_map = {}\n",
        "\n",
        "    for drug in drugs_df[\"DrugID\"].unique():\n",
        "        if drug in node_embedding_dict:\n",
        "            drug_embedding = node_embedding_dict[drug]\n",
        "            feature_vector = np.concatenate([disease_embedding, drug_embedding]).reshape(1, -1)\n",
        "            score = model_instance[0].predict_proba(feature_vector)[0, 1]  # Probability of being a positive link\n",
        "            drug_scores[drug] = score\n",
        "            # Finding associated targets\n",
        "            associated_targets = drugs_df[drugs_df[\"DrugID\"] == drug][\"DrugTarget\"].dropna().unique().tolist()\n",
        "            drug_protein_map[drug] = associated_targets\n",
        "\n",
        "    sorted_drugs = sorted(drug_scores.items(), key=lambda x: x[1], reverse=True)\n",
        "    top_drugs = [(drug, drug_protein_map[drug]) for drug, score in sorted_drugs[:10]]  # Return top 10 predicted drugs with associated targets\n",
        "    return top_drugs\n",
        "\n",
        "disease_ids=[\"MESH:D018352\",\"MESH:D000506\"]\n",
        "disease_name = [\"Corona Virus\",\"Alopecia Areata\"]\n",
        "for i in range(2):\n",
        "    print(disease_name[i])\n",
        "    predicted_drugs_with_proteins = predict_drugs_and_proteins_for_disease(disease_ids[i])\n",
        "    print(f\"Predicted drugs and associated proteins for {disease_name[i]}: {predicted_drugs_with_proteins}\")"
      ]
    }
  ],
  "metadata": {
    "accelerator": "GPU",
    "colab": {
      "gpuType": "T4",
      "provenance": []
    },
    "kernelspec": {
      "display_name": "Python 3",
      "name": "python3"
    },
    "language_info": {
      "codemirror_mode": {
        "name": "ipython",
        "version": 3
      },
      "file_extension": ".py",
      "mimetype": "text/x-python",
      "name": "python",
      "nbconvert_exporter": "python",
      "pygments_lexer": "ipython3",
      "version": "3.11.7"
    }
  },
  "nbformat": 4,
  "nbformat_minor": 5
}